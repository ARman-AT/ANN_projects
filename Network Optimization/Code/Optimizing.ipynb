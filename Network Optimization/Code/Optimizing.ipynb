{
  "nbformat": 4,
  "nbformat_minor": 0,
  "metadata": {
    "colab": {
      "provenance": [],
      "gpuType": "T4"
    },
    "kernelspec": {
      "name": "python3",
      "display_name": "Python 3"
    },
    "language_info": {
      "name": "python"
    },
    "accelerator": "GPU"
  },
  "cells": [
    {
      "cell_type": "code",
      "source": [
        "from google.colab import drive\n",
        "drive.mount('/content/drive')"
      ],
      "metadata": {
        "colab": {
          "base_uri": "https://localhost:8080/"
        },
        "id": "89yChX2kYDHW",
        "outputId": "a1f3e26f-8a2f-4cb6-997a-53c58831b041"
      },
      "execution_count": 1,
      "outputs": [
        {
          "output_type": "stream",
          "name": "stdout",
          "text": [
            "Mounted at /content/drive\n"
          ]
        }
      ]
    },
    {
      "cell_type": "code",
      "source": [
        "import torch\n",
        "import torch.nn as nn\n",
        "import torch.optim as optim\n",
        "from torch.optim.lr_scheduler import StepLR\n",
        "from torchvision import datasets, transforms\n",
        "from torch.utils.data import DataLoader, random_split\n",
        "import torch.optim.lr_scheduler as lr_scheduler\n",
        "import matplotlib.pyplot as plt\n",
        "import torchvision.models as models\n",
        "from tqdm import tqdm\n",
        "import numpy as np"
      ],
      "metadata": {
        "id": "CQpWFA8CFSe5"
      },
      "execution_count": 2,
      "outputs": []
    },
    {
      "cell_type": "code",
      "source": [
        "# Set the specified hyperparameters\n",
        "learning_rate = 0.01\n",
        "momentum = 0.9\n",
        "weight_decay = 5e-4\n",
        "Batch_size = 128\n",
        "epochs = 200\n",
        "step_size = 5\n",
        "gamma = 0.1\n",
        "num_classes = 10\n",
        "threshold = 0.1"
      ],
      "metadata": {
        "id": "BpOlVBZrFTar"
      },
      "execution_count": 3,
      "outputs": []
    },
    {
      "cell_type": "code",
      "source": [
        "# Check for GPU availability\n",
        "device = torch.device(\"cuda:0\" if torch.cuda.is_available() else \"cpu\")\n",
        "print(f\"Using device: {device}\")"
      ],
      "metadata": {
        "colab": {
          "base_uri": "https://localhost:8080/"
        },
        "id": "gaHr3lLiFUtg",
        "outputId": "e196d7ef-818e-424b-fd9a-2d548c92c10d"
      },
      "execution_count": 4,
      "outputs": [
        {
          "output_type": "stream",
          "name": "stdout",
          "text": [
            "Using device: cuda:0\n"
          ]
        }
      ]
    },
    {
      "cell_type": "code",
      "source": [
        "def calculate_center_si(data, label):\n",
        "    n_data, n_feature = data.shape\n",
        "    n_class = label.max().item() + 1\n",
        "\n",
        "    # Ensure label is a 1D tensor for proper indexing\n",
        "    label = label.squeeze().to(device)\n",
        "\n",
        "    # Create a tensor to store the class centers\n",
        "    class_centers = torch.zeros(n_class, n_feature, device=data.device)\n",
        "\n",
        "    # Efficient computation of class centers for any number of features\n",
        "    for i in range(n_class):\n",
        "        class_members = data[label == i]\n",
        "        if len(class_members) > 0:\n",
        "            class_centers[i] = class_members.mean(0)\n",
        "\n",
        "    # Compute distances to class centers\n",
        "    dis_matrix = torch.cdist(data, class_centers, p=2)\n",
        "\n",
        "    # Find the nearest class center for each data point\n",
        "    _, nearest_center_labels = torch.min(dis_matrix, dim=1)\n",
        "\n",
        "    # Calculate CSI\n",
        "    csi = torch.sum(nearest_center_labels == label).float() / n_data\n",
        "\n",
        "    return csi\n",
        "def calculate_si(data, label):\n",
        "    n_data = data.shape[0]\n",
        "\n",
        "    dis_matrix = torch.cdist(data, data, p=2)\n",
        "    dis_matrix.fill_diagonal_(1e10)\n",
        "\n",
        "    # Find the nearest neighbor for each data point\n",
        "    _, nearest_neighbors = torch.min(dis_matrix, dim=1)\n",
        "\n",
        "    # Calculate SI by comparing labels of each data point with its nearest neighbor\n",
        "    si = torch.sum(label == label[nearest_neighbors]).float() / n_data\n",
        "\n",
        "    return si\n",
        "\n",
        "def forward_feature_ranking_si(data, label, n_feature, big_number=1e10):\n",
        "    device1 = data.device\n",
        "    ranked_features = torch.empty(0, dtype=torch.long, device=device1)\n",
        "    rest_features = torch.arange(n_feature, device=device1)\n",
        "    si_ranked_features = torch.zeros(n_feature, device=device1)\n",
        "\n",
        "    for k_forward in range(n_feature):\n",
        "        si_max = 0\n",
        "        chosen_feature = None\n",
        "        k_search_chosen = None\n",
        "\n",
        "        for k_search in range(rest_features.numel()):\n",
        "            current_feature = rest_features[k_search]\n",
        "\n",
        "            # Selecting the current set of features\n",
        "            features_subset = torch.cat((ranked_features, current_feature.unsqueeze(0)))\n",
        "\n",
        "            # Calculate SI for the current subset of features\n",
        "            current_si = calculate_si(data[:, features_subset], label)\n",
        "\n",
        "            if current_si > si_max:\n",
        "                si_max = current_si\n",
        "                chosen_feature = current_feature\n",
        "                k_search_chosen = k_search\n",
        "\n",
        "        ranked_features = torch.cat((ranked_features, chosen_feature.unsqueeze(0)))\n",
        "        rest_features = torch.cat((rest_features[:k_search_chosen], rest_features[k_search_chosen + 1:]))\n",
        "        si_ranked_features[k_forward] = si_max\n",
        "\n",
        "    return si_ranked_features, ranked_features\n"
      ],
      "metadata": {
        "id": "C3Bs3lSfFW_I"
      },
      "execution_count": 5,
      "outputs": []
    },
    {
      "cell_type": "code",
      "source": [
        "train_transform = transforms.Compose([\n",
        "    transforms.RandomHorizontalFlip(),\n",
        "    transforms.RandomRotation(15),\n",
        "    transforms.ColorJitter(brightness=0.2, contrast=0.2, saturation=0.2),\n",
        "    transforms.ToTensor(),\n",
        "    transforms.Normalize((0.5, 0.5, 0.5), (0.5, 0.5, 0.5))\n",
        "])\n",
        "\n",
        "# Transform for validation and test sets remains the same\n",
        "test_transform = transforms.Compose([\n",
        "    transforms.ToTensor(),\n",
        "    transforms.Normalize((0.5, 0.5, 0.5), (0.5, 0.5, 0.5))\n",
        "])\n",
        "\n",
        "# Load datasets with appropriate transforms\n",
        "full_train_set = datasets.CIFAR10(root='./data', train=True, download=True, transform=train_transform)\n",
        "test_set = datasets.CIFAR10(root='./data', train=False, download=True, transform=test_transform)\n",
        "\n",
        "# Splitting the training set into training and validation sets\n",
        "train_size = int(0.9 * len(full_train_set))\n",
        "validation_size = len(full_train_set) - train_size\n",
        "train_set, validation_set = random_split(full_train_set, [train_size, validation_size])\n",
        "\n",
        "# Use the non-augmented transform for the validation set\n",
        "validation_set.dataset.transform = test_transform\n",
        "\n",
        "# Data loaders\n",
        "train_loader = DataLoader(train_set, batch_size=Batch_size, shuffle=True)\n",
        "validation_loader = DataLoader(validation_set, batch_size=Batch_size, shuffle=True)\n",
        "test_loader = DataLoader(test_set, batch_size=Batch_size, shuffle=False)"
      ],
      "metadata": {
        "colab": {
          "base_uri": "https://localhost:8080/"
        },
        "id": "rgo_PSgsFZVo",
        "outputId": "fc5d4ca5-bd75-4549-9634-473e00988f46"
      },
      "execution_count": 6,
      "outputs": [
        {
          "output_type": "stream",
          "name": "stdout",
          "text": [
            "Downloading https://www.cs.toronto.edu/~kriz/cifar-10-python.tar.gz to ./data/cifar-10-python.tar.gz\n"
          ]
        },
        {
          "output_type": "stream",
          "name": "stderr",
          "text": [
            "100%|██████████| 170498071/170498071 [00:02<00:00, 81236690.93it/s] \n"
          ]
        },
        {
          "output_type": "stream",
          "name": "stdout",
          "text": [
            "Extracting ./data/cifar-10-python.tar.gz to ./data\n",
            "Files already downloaded and verified\n"
          ]
        }
      ]
    },
    {
      "cell_type": "code",
      "source": [
        "def train(model, Epoch, optimizer, step_size, gamma, early_stopping_patience=5, min_delta=0.0001):\n",
        "    train_losses, train_accuracies = [], []\n",
        "    val_losses, val_accuracies = [], []\n",
        "\n",
        "    # Initialize StepLR\n",
        "    scheduler = lr_scheduler.StepLR(optimizer, step_size=step_size, gamma=gamma)\n",
        "\n",
        "    # Early stopping\n",
        "    best_val_loss = float('inf')\n",
        "    epochs_no_improve = 0\n",
        "\n",
        "    for epoch in range(Epoch):\n",
        "        # Training phase\n",
        "        model.train()\n",
        "        running_loss = 0.0\n",
        "        correct = 0\n",
        "        total = 0\n",
        "        pbar = tqdm(train_loader, desc=f'Epoch {epoch+1}/{Epoch}')\n",
        "        for inputs, labels in pbar:\n",
        "\n",
        "            inputs, labels = inputs.to(device), labels.to(device)\n",
        "\n",
        "            optimizer.zero_grad()\n",
        "            outputs = model(inputs)\n",
        "            loss = criterion(outputs, labels)\n",
        "            loss.backward()\n",
        "            optimizer.step()\n",
        "\n",
        "            running_loss += loss.item()\n",
        "            _, predicted = torch.max(outputs.data, 1)\n",
        "            total += labels.size(0)\n",
        "            correct += (predicted == labels).sum().item()\n",
        "\n",
        "        train_losses.append(running_loss / total)\n",
        "        train_accuracies.append(100 * correct / total)\n",
        "\n",
        "        # Validation phase\n",
        "        model.eval()\n",
        "        validation_loss = 0.0\n",
        "        correct = 0\n",
        "        total = 0\n",
        "        with torch.no_grad():\n",
        "            for inputs, labels in validation_loader:\n",
        "                inputs, labels = inputs.to(device), labels.to(device)\n",
        "                outputs = model(inputs)\n",
        "                loss = criterion(outputs, labels)\n",
        "                validation_loss += loss.item()\n",
        "                _, predicted = torch.max(outputs.data, 1)\n",
        "                total += labels.size(0)\n",
        "                correct += (predicted == labels).sum().item()\n",
        "        val_losses.append(validation_loss / total)\n",
        "        val_accuracies.append(100 * correct / total)\n",
        "\n",
        "        # Update learning rate\n",
        "        scheduler.step()\n",
        "\n",
        "        print(f'Epoch {epoch+1}, Train Loss: {train_losses[-1]}, Train Accuracy: {train_accuracies[-1]}%, Validation Loss: {val_losses[-1]}, Validation Accuracy: {val_accuracies[-1]}%')\n",
        "\n",
        "        # Early stopping check\n",
        "        val_loss = val_losses[-1]\n",
        "        if val_loss < best_val_loss - min_delta:\n",
        "            best_val_loss = val_loss\n",
        "            epochs_no_improve = 0\n",
        "        else:\n",
        "            epochs_no_improve += 1\n",
        "\n",
        "        if epochs_no_improve >= early_stopping_patience:\n",
        "            print(f'Early stopping triggered after epoch {epoch+1}')\n",
        "            break\n",
        "\n",
        "    return {\n",
        "        \"train_losses\": train_losses,\n",
        "        \"train_accuracies\": train_accuracies,\n",
        "        \"val_losses\": val_losses,\n",
        "        \"val_accuracies\": val_accuracies,\n",
        "    }\n",
        "\n",
        "\n",
        "def my_plot(hist , name):\n",
        "    plt.figure(figsize=(12, 6))\n",
        "    plt.subplot(1, 2, 1)\n",
        "    plt.plot(hist['train_losses'], label='Training Loss')\n",
        "    plt.plot(hist['val_losses'], label='Validation Loss')\n",
        "    plt.title('Model Loss')\n",
        "    plt.xlabel('Epoch')\n",
        "    plt.ylabel('Loss')\n",
        "    plt.legend()\n",
        "\n",
        "    # Plot training & validation accuracy values\n",
        "    plt.subplot(1, 2, 2)\n",
        "    plt.plot(hist['train_accuracies'], label='Training Accuracy')\n",
        "    plt.plot(hist['val_accuracies'], label='Validation Accuracy')\n",
        "    plt.title('Model Accuracy')\n",
        "    plt.xlabel('Epoch')\n",
        "    plt.ylabel('Accuracy')\n",
        "    plt.legend()\n",
        "    plt.suptitle(name)\n",
        "    plt.show()\n",
        "def test(model):\n",
        "    # Evaluation\n",
        "    correct = 0\n",
        "    total = 0\n",
        "    with torch.no_grad():\n",
        "        for data in test_loader:\n",
        "            images, labels = data\n",
        "            outputs = model(images.to(device))\n",
        "            _, predicted = torch.max(outputs.data, 1)\n",
        "            total += labels.size(0)\n",
        "            correct += (predicted.cpu() == labels).sum().item()\n",
        "\n",
        "    print(f'Accuracy of the network on the 10000 test images: {100 * correct // total} %')\n",
        "\n",
        "def layerWise_center_si_groupwise(model, data_loader, device):\n",
        "    si_all = []\n",
        "    grouped_models = []\n",
        "\n",
        "    features = list(model.features)\n",
        "    classifier = list(model.classifier)\n",
        "    all_layers = features + [model.avgpool, nn.Flatten(start_dim=1)] + classifier\n",
        "\n",
        "    # Group layers (Conv, ReLU, MaxPool)\n",
        "    grouped_layers = []\n",
        "    temp_group = []\n",
        "    for layer in all_layers:\n",
        "        temp_group.append(layer)\n",
        "        if isinstance(layer, (nn.MaxPool2d, nn.AdaptiveAvgPool2d, nn.Flatten)):\n",
        "            grouped_layers.append(temp_group)\n",
        "            temp_group = []\n",
        "    if temp_group:\n",
        "        grouped_layers.append(temp_group)\n",
        "\n",
        "    for i, group in enumerate(grouped_layers):\n",
        "        sub_model = nn.Sequential(*(sum(grouped_layers[:i+1], [])))\n",
        "        sub_model.to(device)\n",
        "        grouped_models.append(sub_model)\n",
        "\n",
        "        with torch.no_grad():\n",
        "            output_all = []\n",
        "            label_all = []\n",
        "            batch_counter = 0\n",
        "            for data, label in data_loader:\n",
        "                data = data.to(device)\n",
        "                output = sub_model(data)\n",
        "                outputs = torch.flatten(output, start_dim=1)\n",
        "                output_all.append(outputs)\n",
        "                label_all.append(label)\n",
        "                batch_counter += 1\n",
        "                if batch_counter>= 50:\n",
        "                  break\n",
        "\n",
        "            output_all = torch.cat(output_all, dim=0)\n",
        "            label_all = torch.reshape(torch.cat(label_all, dim=0), (output_all.shape[0], 1))\n",
        "\n",
        "            center_si = calculate_center_si(output_all, label_all)\n",
        "            si_all.append(center_si)\n",
        "\n",
        "            print(f\"Group {i}, Output Shape: {output.shape}, Center SI is: {center_si}\")\n",
        "\n",
        "    return si_all, grouped_models\n",
        "\n",
        "def count_parameters(model): return sum(p.numel() for p in model.parameters())\n",
        "\n",
        "def layerWise_center_si(model, data_loader, device):\n",
        "    si_all = []\n",
        "\n",
        "    features = list(model.base_model)\n",
        "    all_layers = features + [model.flatten , model.feature_selection , model.fc1 , model.dropout , model.fc2]\n",
        "\n",
        "    for i, layer in enumerate(all_layers):\n",
        "        # Create a sub-model with the first 'i' layers\n",
        "        sub_model = nn.Sequential(*all_layers[:i])\n",
        "        sub_model.to(device)\n",
        "\n",
        "        with torch.no_grad():\n",
        "            output_all = []\n",
        "            label_all = []\n",
        "            batch_counter = 0\n",
        "            for data, label in data_loader:\n",
        "                # Process the data through the sub-model\n",
        "                data = data.to(device)\n",
        "                output = sub_model(data)\n",
        "\n",
        "                # Flatten the output\n",
        "                outputs = torch.flatten(output, start_dim=1)\n",
        "\n",
        "                output_all.append(outputs)\n",
        "                label_all.append(label)\n",
        "\n",
        "                batch_counter += 1\n",
        "                if batch_counter >= 5:\n",
        "                    break\n",
        "\n",
        "            # Concatenate all outputs and labels\n",
        "            output_all = torch.cat(output_all, dim=0)\n",
        "            label_all = torch.reshape(torch.cat(label_all, dim=0), (output_all.shape[0], 1))\n",
        "\n",
        "            # Calculate Center SI\n",
        "            center_si = calculate_center_si(output_all, label_all)\n",
        "            si_all.append(center_si)\n",
        "            print(f\"Layer {i}, Output Shape: {output.shape}, Center SI is: {center_si}\")\n",
        "\n",
        "    return si_all"
      ],
      "metadata": {
        "id": "zK321Co3Fe2x"
      },
      "execution_count": 23,
      "outputs": []
    },
    {
      "cell_type": "code",
      "source": [
        "model = models.vgg16(weights=None)\n",
        "model.classifier[3] = nn.Linear(4096, 1024)\n",
        "model.classifier[6] = nn.Linear(1024, 10)\n",
        "checkpoint = torch.load('/content/drive/MyDrive/Tahlil_Tarahi/HW04/TT_HW04_Q1_a_vgg16.pth')\n",
        "\n",
        "model.load_state_dict(checkpoint['model_state_dict'])\n",
        "\n",
        "model.to(device)"
      ],
      "metadata": {
        "id": "MxMh5BkJFnCO",
        "colab": {
          "base_uri": "https://localhost:8080/"
        },
        "outputId": "a4bf4ed0-9ec2-4576-cd0b-a0062d3a7631"
      },
      "execution_count": 8,
      "outputs": [
        {
          "output_type": "execute_result",
          "data": {
            "text/plain": [
              "VGG(\n",
              "  (features): Sequential(\n",
              "    (0): Conv2d(3, 64, kernel_size=(3, 3), stride=(1, 1), padding=(1, 1))\n",
              "    (1): ReLU(inplace=True)\n",
              "    (2): Conv2d(64, 64, kernel_size=(3, 3), stride=(1, 1), padding=(1, 1))\n",
              "    (3): ReLU(inplace=True)\n",
              "    (4): MaxPool2d(kernel_size=2, stride=2, padding=0, dilation=1, ceil_mode=False)\n",
              "    (5): Conv2d(64, 128, kernel_size=(3, 3), stride=(1, 1), padding=(1, 1))\n",
              "    (6): ReLU(inplace=True)\n",
              "    (7): Conv2d(128, 128, kernel_size=(3, 3), stride=(1, 1), padding=(1, 1))\n",
              "    (8): ReLU(inplace=True)\n",
              "    (9): MaxPool2d(kernel_size=2, stride=2, padding=0, dilation=1, ceil_mode=False)\n",
              "    (10): Conv2d(128, 256, kernel_size=(3, 3), stride=(1, 1), padding=(1, 1))\n",
              "    (11): ReLU(inplace=True)\n",
              "    (12): Conv2d(256, 256, kernel_size=(3, 3), stride=(1, 1), padding=(1, 1))\n",
              "    (13): ReLU(inplace=True)\n",
              "    (14): Conv2d(256, 256, kernel_size=(3, 3), stride=(1, 1), padding=(1, 1))\n",
              "    (15): ReLU(inplace=True)\n",
              "    (16): MaxPool2d(kernel_size=2, stride=2, padding=0, dilation=1, ceil_mode=False)\n",
              "    (17): Conv2d(256, 512, kernel_size=(3, 3), stride=(1, 1), padding=(1, 1))\n",
              "    (18): ReLU(inplace=True)\n",
              "    (19): Conv2d(512, 512, kernel_size=(3, 3), stride=(1, 1), padding=(1, 1))\n",
              "    (20): ReLU(inplace=True)\n",
              "    (21): Conv2d(512, 512, kernel_size=(3, 3), stride=(1, 1), padding=(1, 1))\n",
              "    (22): ReLU(inplace=True)\n",
              "    (23): MaxPool2d(kernel_size=2, stride=2, padding=0, dilation=1, ceil_mode=False)\n",
              "    (24): Conv2d(512, 512, kernel_size=(3, 3), stride=(1, 1), padding=(1, 1))\n",
              "    (25): ReLU(inplace=True)\n",
              "    (26): Conv2d(512, 512, kernel_size=(3, 3), stride=(1, 1), padding=(1, 1))\n",
              "    (27): ReLU(inplace=True)\n",
              "    (28): Conv2d(512, 512, kernel_size=(3, 3), stride=(1, 1), padding=(1, 1))\n",
              "    (29): ReLU(inplace=True)\n",
              "    (30): MaxPool2d(kernel_size=2, stride=2, padding=0, dilation=1, ceil_mode=False)\n",
              "  )\n",
              "  (avgpool): AdaptiveAvgPool2d(output_size=(7, 7))\n",
              "  (classifier): Sequential(\n",
              "    (0): Linear(in_features=25088, out_features=4096, bias=True)\n",
              "    (1): ReLU(inplace=True)\n",
              "    (2): Dropout(p=0.5, inplace=False)\n",
              "    (3): Linear(in_features=4096, out_features=1024, bias=True)\n",
              "    (4): ReLU(inplace=True)\n",
              "    (5): Dropout(p=0.5, inplace=False)\n",
              "    (6): Linear(in_features=1024, out_features=10, bias=True)\n",
              "  )\n",
              ")"
            ]
          },
          "metadata": {},
          "execution_count": 8
        }
      ]
    },
    {
      "cell_type": "code",
      "source": [
        "si_values, grouped_models = layerWise_center_si_groupwise(model , train_loader , device )"
      ],
      "metadata": {
        "colab": {
          "base_uri": "https://localhost:8080/"
        },
        "id": "iSFRaQpOOooJ",
        "outputId": "f72ed43c-4080-4859-bd8c-097dd9f7719b"
      },
      "execution_count": 12,
      "outputs": [
        {
          "output_type": "stream",
          "name": "stdout",
          "text": [
            "Group 0, Output Shape: torch.Size([128, 64, 16, 16]), Center SI is: 0.504687488079071\n",
            "Group 1, Output Shape: torch.Size([128, 128, 8, 8]), Center SI is: 0.6153124570846558\n",
            "Group 2, Output Shape: torch.Size([128, 256, 4, 4]), Center SI is: 0.7479687333106995\n",
            "Group 3, Output Shape: torch.Size([128, 512, 2, 2]), Center SI is: 0.8532812595367432\n",
            "Group 4, Output Shape: torch.Size([128, 512, 1, 1]), Center SI is: 0.9309374690055847\n",
            "Group 5, Output Shape: torch.Size([128, 512, 7, 7]), Center SI is: 0.9345312118530273\n",
            "Group 6, Output Shape: torch.Size([128, 25088]), Center SI is: 0.9232812523841858\n",
            "Group 7, Output Shape: torch.Size([128, 10]), Center SI is: 0.9426562190055847\n"
          ]
        }
      ]
    },
    {
      "cell_type": "code",
      "source": [
        "best_model = grouped_models[4]"
      ],
      "metadata": {
        "id": "9VnXZPsC5jrl"
      },
      "execution_count": 13,
      "outputs": []
    },
    {
      "cell_type": "code",
      "source": [
        "X_train = []\n",
        "y_train = []\n",
        "batch_counter = 0\n",
        "for i, j in train_loader:\n",
        "    k = best_model(i.to(device))\n",
        "    X_train.append(k)\n",
        "    y_train.append(j)\n",
        "    batch_counter+=1\n",
        "    if batch_counter>=50:\n",
        "      break\n",
        "X_train = [tensor.squeeze() for tensor in X_train]\n",
        "y_train = [tensor.squeeze() for tensor in y_train]\n",
        "\n",
        "X_train = torch.cat(X_train, dim=0)\n",
        "y_train = torch.cat(y_train, dim=0)\n"
      ],
      "metadata": {
        "id": "JHaHz6O7nvAZ"
      },
      "execution_count": 15,
      "outputs": []
    },
    {
      "cell_type": "code",
      "source": [
        "si_ranked_features, ranked_features = forward_feature_ranking_si(X_train , y_train.to(device) , 512)\n"
      ],
      "metadata": {
        "id": "MHmMmszFn_8C"
      },
      "execution_count": 16,
      "outputs": []
    },
    {
      "cell_type": "code",
      "source": [
        "si_values = si_ranked_features.tolist()\n",
        "\n",
        "plt.figure(figsize=(10, 6))\n",
        "plt.plot(range(1, 513), si_values, marker='o', linestyle='-')\n",
        "plt.title('Separation Index (SI) vs. Number of Features')\n",
        "plt.xlabel('Number of Features Added')\n",
        "plt.ylabel('Separation Index (SI)')\n",
        "plt.grid(True)\n",
        "plt.show()"
      ],
      "metadata": {
        "colab": {
          "base_uri": "https://localhost:8080/",
          "height": 564
        },
        "id": "djBzrMghfTea",
        "outputId": "880251ec-03ba-4f3d-e921-126316f31872"
      },
      "execution_count": 13,
      "outputs": [
        {
          "output_type": "display_data",
          "data": {
            "text/plain": [
              "<Figure size 1000x600 with 1 Axes>"
            ],
            "image/png": "[encoded data removed]"
          },
          "metadata": {}
        }
      ]
    },
    {
      "cell_type": "code",
      "source": [
        "class FeatureSelectionLayer(nn.Module):\n",
        "    def __init__(self, indices):\n",
        "        super(FeatureSelectionLayer, self).__init__()\n",
        "        self.indices = torch.tensor(indices, dtype=torch.long)\n",
        "\n",
        "    def forward(self, x):\n",
        "        # Select features based on the provided indices\n",
        "        return x[:, self.indices]\n"
      ],
      "metadata": {
        "id": "gjEZkhBTPIMF"
      },
      "execution_count": 10,
      "outputs": []
    },
    {
      "cell_type": "code",
      "source": [
        "class ExtendedModel(nn.Module):\n",
        "    def __init__(self, base_model, feature_indices, num_classes):\n",
        "        super(ExtendedModel, self).__init__()\n",
        "        self.base_model = base_model\n",
        "\n",
        "        # Freeze the parameters in the base model\n",
        "        for param in self.base_model.parameters():\n",
        "            param.requires_grad = False\n",
        "\n",
        "        self.feature_selection = FeatureSelectionLayer(feature_indices)\n",
        "        self.pooling = nn.AdaptiveAvgPool1d(1)  # GlobalAveragePooling equivalent\n",
        "        self.flatten = nn.Flatten()\n",
        "        self.fc1 = nn.Linear(len(feature_indices), 100)  # Dense layer\n",
        "        self.fc2 = nn.Linear(100, num_classes)\n",
        "        self.relu = nn.ReLU()\n",
        "        self.dropout = nn.Dropout(p=0.5, inplace=False)\n",
        "\n",
        "    def forward(self, x):\n",
        "        x = self.base_model(x)\n",
        "        x = self.flatten(x)\n",
        "        x = self.feature_selection(x)\n",
        "        x = self.relu(self.fc1(x))\n",
        "        x = self.dropout(x)\n",
        "        x = self.relu(self.fc2(x))\n",
        "        return x"
      ],
      "metadata": {
        "id": "FbSFVNv6PQfT"
      },
      "execution_count": 9,
      "outputs": []
    },
    {
      "cell_type": "code",
      "source": [
        "extended_model = ExtendedModel(best_model, ranked_features[:250], num_classes)\n"
      ],
      "metadata": {
        "colab": {
          "base_uri": "https://localhost:8080/"
        },
        "id": "K1wCvHdLQA5x",
        "outputId": "bec2ee84-598a-4b99-f69d-411b60c58cc4"
      },
      "execution_count": 17,
      "outputs": [
        {
          "output_type": "stream",
          "name": "stderr",
          "text": [
            "<ipython-input-10-86dc074d1d3d>:4: UserWarning: To copy construct from a tensor, it is recommended to use sourceTensor.clone().detach() or sourceTensor.clone().detach().requires_grad_(True), rather than torch.tensor(sourceTensor).\n",
            "  self.indices = torch.tensor(indices, dtype=torch.long)\n"
          ]
        }
      ]
    },
    {
      "cell_type": "code",
      "source": [
        "# Loss function\n",
        "criterion = nn.CrossEntropyLoss()\n",
        "\n",
        "# Optimizer\n",
        "optimizer = optim.SGD(extended_model.parameters(), lr=learning_rate, momentum=momentum, weight_decay=weight_decay)\n",
        "\n",
        "extended_model.to(device)\n",
        "# Train the model using your training loop\n",
        "history = train(extended_model, epochs, optimizer, step_size, gamma)"
      ],
      "metadata": {
        "colab": {
          "base_uri": "https://localhost:8080/"
        },
        "id": "PwtAk8qJQ1te",
        "outputId": "b3370d55-5fc4-4411-d887-ec33ff360373"
      },
      "execution_count": 35,
      "outputs": [
        {
          "output_type": "stream",
          "name": "stderr",
          "text": [
            "Epoch 1/200: 100%|██████████| 352/352 [00:19<00:00, 18.16it/s]\n"
          ]
        },
        {
          "output_type": "stream",
          "name": "stdout",
          "text": [
            "Epoch 1, Train Loss: 0.013977505085203382, Train Accuracy: 49.71111111111111%, Validation Loss: 0.009339620339870453, Validation Accuracy: 66.06%\n"
          ]
        },
        {
          "output_type": "stream",
          "name": "stderr",
          "text": [
            "Epoch 2/200: 100%|██████████| 352/352 [00:20<00:00, 17.30it/s]\n"
          ]
        },
        {
          "output_type": "stream",
          "name": "stdout",
          "text": [
            "Epoch 2, Train Loss: 0.008046173636118571, Train Accuracy: 66.94888888888889%, Validation Loss: 0.007034075087308884, Validation Accuracy: 67.3%\n"
          ]
        },
        {
          "output_type": "stream",
          "name": "stderr",
          "text": [
            "Epoch 3/200: 100%|██████████| 352/352 [00:19<00:00, 18.44it/s]\n"
          ]
        },
        {
          "output_type": "stream",
          "name": "stdout",
          "text": [
            "Epoch 3, Train Loss: 0.006913335133923425, Train Accuracy: 68.78%, Validation Loss: 0.005871924495697021, Validation Accuracy: 76.82%\n"
          ]
        },
        {
          "output_type": "stream",
          "name": "stderr",
          "text": [
            "Epoch 4/200: 100%|██████████| 352/352 [00:20<00:00, 17.26it/s]\n"
          ]
        },
        {
          "output_type": "stream",
          "name": "stdout",
          "text": [
            "Epoch 4, Train Loss: 0.005227606944905387, Train Accuracy: 77.34666666666666%, Validation Loss: 0.004854839789867401, Validation Accuracy: 77.02%\n"
          ]
        },
        {
          "output_type": "stream",
          "name": "stderr",
          "text": [
            "Epoch 5/200: 100%|██████████| 352/352 [00:19<00:00, 18.37it/s]\n"
          ]
        },
        {
          "output_type": "stream",
          "name": "stdout",
          "text": [
            "Epoch 5, Train Loss: 0.004054980399873522, Train Accuracy: 85.90222222222222%, Validation Loss: 0.003615798741579056, Validation Accuracy: 86.74%\n"
          ]
        },
        {
          "output_type": "stream",
          "name": "stderr",
          "text": [
            "Epoch 6/200: 100%|██████████| 352/352 [00:19<00:00, 17.70it/s]\n"
          ]
        },
        {
          "output_type": "stream",
          "name": "stdout",
          "text": [
            "Epoch 6, Train Loss: 0.0036288030750221676, Train Accuracy: 86.74888888888889%, Validation Loss: 0.003468197837471962, Validation Accuracy: 86.76%\n"
          ]
        },
        {
          "output_type": "stream",
          "name": "stderr",
          "text": [
            "Epoch 7/200: 100%|██████████| 352/352 [00:20<00:00, 17.09it/s]\n"
          ]
        },
        {
          "output_type": "stream",
          "name": "stdout",
          "text": [
            "Epoch 7, Train Loss: 0.0035983089930481382, Train Accuracy: 86.7088888888889%, Validation Loss: 0.0034597329288721087, Validation Accuracy: 86.78%\n"
          ]
        },
        {
          "output_type": "stream",
          "name": "stderr",
          "text": [
            "Epoch 8/200: 100%|██████████| 352/352 [00:19<00:00, 17.63it/s]\n"
          ]
        },
        {
          "output_type": "stream",
          "name": "stdout",
          "text": [
            "Epoch 8, Train Loss: 0.0035765243020322588, Train Accuracy: 86.68%, Validation Loss: 0.0034494971811771394, Validation Accuracy: 86.78%\n"
          ]
        },
        {
          "output_type": "stream",
          "name": "stderr",
          "text": [
            "Epoch 9/200: 100%|██████████| 352/352 [00:19<00:00, 18.27it/s]\n"
          ]
        },
        {
          "output_type": "stream",
          "name": "stdout",
          "text": [
            "Epoch 9, Train Loss: 0.0035426296727524864, Train Accuracy: 86.74444444444444%, Validation Loss: 0.003530084651708603, Validation Accuracy: 86.78%\n"
          ]
        },
        {
          "output_type": "stream",
          "name": "stderr",
          "text": [
            "Epoch 10/200: 100%|██████████| 352/352 [00:19<00:00, 17.66it/s]\n"
          ]
        },
        {
          "output_type": "stream",
          "name": "stdout",
          "text": [
            "Epoch 10, Train Loss: 0.0034886791858408186, Train Accuracy: 86.86888888888889%, Validation Loss: 0.003401844561100006, Validation Accuracy: 86.82%\n"
          ]
        },
        {
          "output_type": "stream",
          "name": "stderr",
          "text": [
            "Epoch 11/200: 100%|██████████| 352/352 [00:19<00:00, 17.98it/s]\n"
          ]
        },
        {
          "output_type": "stream",
          "name": "stdout",
          "text": [
            "Epoch 11, Train Loss: 0.003473162472910351, Train Accuracy: 86.82222222222222%, Validation Loss: 0.0034081768691539764, Validation Accuracy: 86.82%\n",
            "Early stopping triggered after epoch 11\n"
          ]
        }
      ]
    },
    {
      "cell_type": "code",
      "source": [
        "my_plot(history , 'VGG16 Compressed (part C)')"
      ],
      "metadata": {
        "colab": {
          "base_uri": "https://localhost:8080/",
          "height": 622
        },
        "id": "B3aMD1PxnOgt",
        "outputId": "4955422e-1452-488a-cf7a-806f0975690b"
      },
      "execution_count": 37,
      "outputs": [
        {
          "output_type": "display_data",
          "data": {
            "text/plain": [
              "<Figure size 1200x600 with 2 Axes>"
            ],
            "image/png": "[encoded data removed]"
          },
          "metadata": {}
        }
      ]
    },
    {
      "cell_type": "code",
      "source": [
        "test(extended_model)"
      ],
      "metadata": {
        "colab": {
          "base_uri": "https://localhost:8080/"
        },
        "id": "HJ39u3DoXaHU",
        "outputId": "57e1f238-0aac-4ef4-9d63-1290dcd72401"
      },
      "execution_count": 36,
      "outputs": [
        {
          "output_type": "stream",
          "name": "stdout",
          "text": [
            "Accuracy of the network on the 10000 test images: 75 %\n"
          ]
        }
      ]
    },
    {
      "cell_type": "code",
      "source": [
        "print(f'number of parameters for compressed model : {count_parameters(extended_model)}')"
      ],
      "metadata": {
        "colab": {
          "base_uri": "https://localhost:8080/"
        },
        "id": "IgDxCZMCXiME",
        "outputId": "0a8b7c4e-1047-403c-fc38-22ee6418b3b4"
      },
      "execution_count": 41,
      "outputs": [
        {
          "output_type": "stream",
          "name": "stdout",
          "text": [
            "number of parameters for compressed model : 14740798\n"
          ]
        }
      ]
    },
    {
      "cell_type": "code",
      "source": [
        "print(f'number of parameters for original model : {count_parameters(model)}')"
      ],
      "metadata": {
        "colab": {
          "base_uri": "https://localhost:8080/"
        },
        "id": "YUilUS6EnrOG",
        "outputId": "70926d18-e3f4-4a19-b932-8eba4bcc12eb"
      },
      "execution_count": 42,
      "outputs": [
        {
          "output_type": "stream",
          "name": "stdout",
          "text": [
            "number of parameters for original model : 121684810\n"
          ]
        }
      ]
    },
    {
      "cell_type": "code",
      "source": [
        "# Save metrics\n",
        "torch.save({\n",
        "    'epoch': 15,\n",
        "    'model_state_dict': extended_model.state_dict(),\n",
        "    'optimizer_state_dict': optimizer.state_dict(),\n",
        "    'train_losses': history.get(\"train_losses\"),\n",
        "    'train_accuracies': history.get(\"train_accuracies\"),\n",
        "    'val_losses': history.get(\"val_losses\"),\n",
        "    'val_accuracies': history.get(\"val_accuracies\"),\n",
        "}, '/content/drive/MyDrive/Tahlil_Tarahi/HW04/TT_HW04_Q1_c_vgg16.pth')"
      ],
      "metadata": {
        "id": "W9aso1eEq9Y3"
      },
      "execution_count": 48,
      "outputs": []
    },
    {
      "cell_type": "code",
      "source": [
        "extended_model = ExtendedModel(best_model, ranked_features[:250], num_classes)\n",
        "\n",
        "checkpoint = torch.load('/content/drive/MyDrive/Tahlil_Tarahi/HW04/TT_HW04_Q1_c_vgg16.pth')\n",
        "\n",
        "extended_model.load_state_dict(checkpoint['model_state_dict'])\n",
        "\n",
        "extended_model.to(device)"
      ],
      "metadata": {
        "colab": {
          "base_uri": "https://localhost:8080/"
        },
        "id": "_OD79rsprcsI",
        "outputId": "8e265d39-b1be-4da9-a400-5f072351e275"
      },
      "execution_count": 21,
      "outputs": [
        {
          "output_type": "stream",
          "name": "stderr",
          "text": [
            "<ipython-input-10-86dc074d1d3d>:4: UserWarning: To copy construct from a tensor, it is recommended to use sourceTensor.clone().detach() or sourceTensor.clone().detach().requires_grad_(True), rather than torch.tensor(sourceTensor).\n",
            "  self.indices = torch.tensor(indices, dtype=torch.long)\n"
          ]
        },
        {
          "output_type": "execute_result",
          "data": {
            "text/plain": [
              "ExtendedModel(\n",
              "  (base_model): Sequential(\n",
              "    (0): Conv2d(3, 64, kernel_size=(3, 3), stride=(1, 1), padding=(1, 1))\n",
              "    (1): ReLU(inplace=True)\n",
              "    (2): Conv2d(64, 64, kernel_size=(3, 3), stride=(1, 1), padding=(1, 1))\n",
              "    (3): ReLU(inplace=True)\n",
              "    (4): MaxPool2d(kernel_size=2, stride=2, padding=0, dilation=1, ceil_mode=False)\n",
              "    (5): Conv2d(64, 128, kernel_size=(3, 3), stride=(1, 1), padding=(1, 1))\n",
              "    (6): ReLU(inplace=True)\n",
              "    (7): Conv2d(128, 128, kernel_size=(3, 3), stride=(1, 1), padding=(1, 1))\n",
              "    (8): ReLU(inplace=True)\n",
              "    (9): MaxPool2d(kernel_size=2, stride=2, padding=0, dilation=1, ceil_mode=False)\n",
              "    (10): Conv2d(128, 256, kernel_size=(3, 3), stride=(1, 1), padding=(1, 1))\n",
              "    (11): ReLU(inplace=True)\n",
              "    (12): Conv2d(256, 256, kernel_size=(3, 3), stride=(1, 1), padding=(1, 1))\n",
              "    (13): ReLU(inplace=True)\n",
              "    (14): Conv2d(256, 256, kernel_size=(3, 3), stride=(1, 1), padding=(1, 1))\n",
              "    (15): ReLU(inplace=True)\n",
              "    (16): MaxPool2d(kernel_size=2, stride=2, padding=0, dilation=1, ceil_mode=False)\n",
              "    (17): Conv2d(256, 512, kernel_size=(3, 3), stride=(1, 1), padding=(1, 1))\n",
              "    (18): ReLU(inplace=True)\n",
              "    (19): Conv2d(512, 512, kernel_size=(3, 3), stride=(1, 1), padding=(1, 1))\n",
              "    (20): ReLU(inplace=True)\n",
              "    (21): Conv2d(512, 512, kernel_size=(3, 3), stride=(1, 1), padding=(1, 1))\n",
              "    (22): ReLU(inplace=True)\n",
              "    (23): MaxPool2d(kernel_size=2, stride=2, padding=0, dilation=1, ceil_mode=False)\n",
              "    (24): Conv2d(512, 512, kernel_size=(3, 3), stride=(1, 1), padding=(1, 1))\n",
              "    (25): ReLU(inplace=True)\n",
              "    (26): Conv2d(512, 512, kernel_size=(3, 3), stride=(1, 1), padding=(1, 1))\n",
              "    (27): ReLU(inplace=True)\n",
              "    (28): Conv2d(512, 512, kernel_size=(3, 3), stride=(1, 1), padding=(1, 1))\n",
              "    (29): ReLU(inplace=True)\n",
              "    (30): MaxPool2d(kernel_size=2, stride=2, padding=0, dilation=1, ceil_mode=False)\n",
              "  )\n",
              "  (feature_selection): FeatureSelectionLayer()\n",
              "  (pooling): AdaptiveAvgPool1d(output_size=1)\n",
              "  (flatten): Flatten(start_dim=1, end_dim=-1)\n",
              "  (fc1): Linear(in_features=250, out_features=100, bias=True)\n",
              "  (fc2): Linear(in_features=100, out_features=10, bias=True)\n",
              "  (relu): ReLU()\n",
              "  (dropout): Dropout(p=0.5, inplace=False)\n",
              ")"
            ]
          },
          "metadata": {},
          "execution_count": 21
        }
      ]
    },
    {
      "cell_type": "code",
      "source": [
        "layer_si = layerWise_center_si(extended_model , train_loader , device)"
      ],
      "metadata": {
        "colab": {
          "base_uri": "https://localhost:8080/"
        },
        "id": "jH2JLjYwojy9",
        "outputId": "8816fb87-dade-4614-f5d2-d5f56c22c839"
      },
      "execution_count": 24,
      "outputs": [
        {
          "output_type": "stream",
          "name": "stdout",
          "text": [
            "Layer 0, Output Shape: torch.Size([128, 3, 32, 32]), Center SI is: 0.28437501192092896\n",
            "Layer 1, Output Shape: torch.Size([128, 64, 32, 32]), Center SI is: 0.41093751788139343\n",
            "Layer 2, Output Shape: torch.Size([128, 64, 32, 32]), Center SI is: 0.5328125357627869\n",
            "Layer 3, Output Shape: torch.Size([128, 64, 32, 32]), Center SI is: 0.596875011920929\n",
            "Layer 4, Output Shape: torch.Size([128, 64, 32, 32]), Center SI is: 0.7250000238418579\n",
            "Layer 5, Output Shape: torch.Size([128, 64, 16, 16]), Center SI is: 0.6875\n",
            "Layer 6, Output Shape: torch.Size([128, 128, 16, 16]), Center SI is: 0.707812488079071\n",
            "Layer 7, Output Shape: torch.Size([128, 128, 16, 16]), Center SI is: 0.78125\n",
            "Layer 8, Output Shape: torch.Size([128, 128, 16, 16]), Center SI is: 0.6781250238418579\n",
            "Layer 9, Output Shape: torch.Size([128, 128, 16, 16]), Center SI is: 0.8421875238418579\n",
            "Layer 10, Output Shape: torch.Size([128, 128, 8, 8]), Center SI is: 0.776562511920929\n",
            "Layer 11, Output Shape: torch.Size([128, 256, 8, 8]), Center SI is: 0.7109375\n",
            "Layer 12, Output Shape: torch.Size([128, 256, 8, 8]), Center SI is: 0.796875\n",
            "Layer 13, Output Shape: torch.Size([128, 256, 8, 8]), Center SI is: 0.7515625357627869\n",
            "Layer 14, Output Shape: torch.Size([128, 256, 8, 8]), Center SI is: 0.7984375357627869\n",
            "Layer 15, Output Shape: torch.Size([128, 256, 8, 8]), Center SI is: 0.690625011920929\n",
            "Layer 16, Output Shape: torch.Size([128, 256, 8, 8]), Center SI is: 0.8578125238418579\n",
            "Layer 17, Output Shape: torch.Size([128, 256, 4, 4]), Center SI is: 0.8359375\n",
            "Layer 18, Output Shape: torch.Size([128, 512, 4, 4]), Center SI is: 0.807812511920929\n",
            "Layer 19, Output Shape: torch.Size([128, 512, 4, 4]), Center SI is: 0.8359375\n",
            "Layer 20, Output Shape: torch.Size([128, 512, 4, 4]), Center SI is: 0.817187488079071\n",
            "Layer 21, Output Shape: torch.Size([128, 512, 4, 4]), Center SI is: 0.8765625357627869\n",
            "Layer 22, Output Shape: torch.Size([128, 512, 4, 4]), Center SI is: 0.854687511920929\n",
            "Layer 23, Output Shape: torch.Size([128, 512, 4, 4]), Center SI is: 0.8421875238418579\n",
            "Layer 24, Output Shape: torch.Size([128, 512, 2, 2]), Center SI is: 0.8687500357627869\n",
            "Layer 25, Output Shape: torch.Size([128, 512, 2, 2]), Center SI is: 0.8968750238418579\n",
            "Layer 26, Output Shape: torch.Size([128, 512, 2, 2]), Center SI is: 0.8984375\n",
            "Layer 27, Output Shape: torch.Size([128, 512, 2, 2]), Center SI is: 0.9140625\n",
            "Layer 28, Output Shape: torch.Size([128, 512, 2, 2]), Center SI is: 0.9437500238418579\n",
            "Layer 29, Output Shape: torch.Size([128, 512, 2, 2]), Center SI is: 0.934374988079071\n",
            "Layer 30, Output Shape: torch.Size([128, 512, 2, 2]), Center SI is: 0.940625011920929\n",
            "Layer 31, Output Shape: torch.Size([128, 512, 1, 1]), Center SI is: 0.926562488079071\n",
            "Layer 32, Output Shape: torch.Size([128, 512]), Center SI is: 0.925000011920929\n",
            "Layer 33, Output Shape: torch.Size([128, 250]), Center SI is: 0.909375011920929\n",
            "Layer 34, Output Shape: torch.Size([128, 100]), Center SI is: 0.8359375\n",
            "Layer 35, Output Shape: torch.Size([128, 100]), Center SI is: 0.7640625238418579\n"
          ]
        }
      ]
    },
    {
      "cell_type": "code",
      "source": [
        "layer_si_test = layerWise_center_si(extended_model , test_loader , device)"
      ],
      "metadata": {
        "colab": {
          "base_uri": "https://localhost:8080/"
        },
        "id": "MQGxKjNcsCLg",
        "outputId": "a8a6f06d-645f-4269-cbc1-9fb6b4a6913e"
      },
      "execution_count": 26,
      "outputs": [
        {
          "output_type": "stream",
          "name": "stdout",
          "text": [
            "Layer 0, Output Shape: torch.Size([128, 3, 32, 32]), Center SI is: 0.32343751192092896\n",
            "Layer 1, Output Shape: torch.Size([128, 64, 32, 32]), Center SI is: 0.4078125059604645\n",
            "Layer 2, Output Shape: torch.Size([128, 64, 32, 32]), Center SI is: 0.5171875357627869\n",
            "Layer 3, Output Shape: torch.Size([128, 64, 32, 32]), Center SI is: 0.604687511920929\n",
            "Layer 4, Output Shape: torch.Size([128, 64, 32, 32]), Center SI is: 0.7093750238418579\n",
            "Layer 5, Output Shape: torch.Size([128, 64, 16, 16]), Center SI is: 0.6937500238418579\n",
            "Layer 6, Output Shape: torch.Size([128, 128, 16, 16]), Center SI is: 0.7171875238418579\n",
            "Layer 7, Output Shape: torch.Size([128, 128, 16, 16]), Center SI is: 0.7640625238418579\n",
            "Layer 8, Output Shape: torch.Size([128, 128, 16, 16]), Center SI is: 0.7109375\n",
            "Layer 9, Output Shape: torch.Size([128, 128, 16, 16]), Center SI is: 0.8500000238418579\n",
            "Layer 10, Output Shape: torch.Size([128, 128, 8, 8]), Center SI is: 0.785937488079071\n",
            "Layer 11, Output Shape: torch.Size([128, 256, 8, 8]), Center SI is: 0.7328125238418579\n",
            "Layer 12, Output Shape: torch.Size([128, 256, 8, 8]), Center SI is: 0.800000011920929\n",
            "Layer 13, Output Shape: torch.Size([128, 256, 8, 8]), Center SI is: 0.7421875\n",
            "Layer 14, Output Shape: torch.Size([128, 256, 8, 8]), Center SI is: 0.8203125\n",
            "Layer 15, Output Shape: torch.Size([128, 256, 8, 8]), Center SI is: 0.707812488079071\n",
            "Layer 16, Output Shape: torch.Size([128, 256, 8, 8]), Center SI is: 0.862500011920929\n",
            "Layer 17, Output Shape: torch.Size([128, 256, 4, 4]), Center SI is: 0.824999988079071\n",
            "Layer 18, Output Shape: torch.Size([128, 512, 4, 4]), Center SI is: 0.78125\n",
            "Layer 19, Output Shape: torch.Size([128, 512, 4, 4]), Center SI is: 0.793749988079071\n",
            "Layer 20, Output Shape: torch.Size([128, 512, 4, 4]), Center SI is: 0.7562500238418579\n",
            "Layer 21, Output Shape: torch.Size([128, 512, 4, 4]), Center SI is: 0.7796875238418579\n",
            "Layer 22, Output Shape: torch.Size([128, 512, 4, 4]), Center SI is: 0.75\n",
            "Layer 23, Output Shape: torch.Size([128, 512, 4, 4]), Center SI is: 0.745312511920929\n",
            "Layer 24, Output Shape: torch.Size([128, 512, 2, 2]), Center SI is: 0.760937511920929\n",
            "Layer 25, Output Shape: torch.Size([128, 512, 2, 2]), Center SI is: 0.765625\n",
            "Layer 26, Output Shape: torch.Size([128, 512, 2, 2]), Center SI is: 0.770312488079071\n",
            "Layer 27, Output Shape: torch.Size([128, 512, 2, 2]), Center SI is: 0.776562511920929\n",
            "Layer 28, Output Shape: torch.Size([128, 512, 2, 2]), Center SI is: 0.78125\n",
            "Layer 29, Output Shape: torch.Size([128, 512, 2, 2]), Center SI is: 0.78125\n",
            "Layer 30, Output Shape: torch.Size([128, 512, 2, 2]), Center SI is: 0.78125\n",
            "Layer 31, Output Shape: torch.Size([128, 512, 1, 1]), Center SI is: 0.7796875238418579\n",
            "Layer 32, Output Shape: torch.Size([128, 512]), Center SI is: 0.7796875238418579\n",
            "Layer 33, Output Shape: torch.Size([128, 250]), Center SI is: 0.778124988079071\n",
            "Layer 34, Output Shape: torch.Size([128, 100]), Center SI is: 0.706250011920929\n",
            "Layer 35, Output Shape: torch.Size([128, 100]), Center SI is: 0.667187511920929\n"
          ]
        }
      ]
    },
    {
      "cell_type": "code",
      "source": [
        "plt.figure(figsize=(12, 6))\n",
        "plt.subplot(1, 2, 1)\n",
        "\n",
        "plt.subplot(1, 2, 1)\n",
        "plt.plot(torch.tensor(layer_si, device = 'cpu'), label='Center SI')\n",
        "plt.title('Center SI Layer by Layer on Training Data For VGG16 (part a)')\n",
        "plt.xlabel('Layer')\n",
        "plt.ylabel('Center SI')\n",
        "plt.legend()\n",
        "\n",
        "plt.subplot(1, 2, 1)\n",
        "plt.subplot(1, 2, 2)\n",
        "plt.plot(torch.tensor(layer_si_test, device = 'cpu'), label='Center SI')\n",
        "plt.title('Center SI Layer by Layer on Test Data For VGG16 (part a)')\n",
        "plt.xlabel('Layer')\n",
        "plt.ylabel('Center SI')\n",
        "plt.legend()\n",
        "\n",
        "plt.show()"
      ],
      "metadata": {
        "colab": {
          "base_uri": "https://localhost:8080/",
          "height": 474
        },
        "id": "zc0I2TjlsIa6",
        "outputId": "ce7507d4-a3b8-419d-fd9c-643d5e582e83"
      },
      "execution_count": 27,
      "outputs": [
        {
          "output_type": "display_data",
          "data": {
            "text/plain": [
              "<Figure size 1200x600 with 2 Axes>"
            ],
            "image/png": "[encoded data removed]"
          },
          "metadata": {}
        }
      ]
    }
  ]
}